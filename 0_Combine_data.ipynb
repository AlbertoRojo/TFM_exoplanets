{
 "cells": [
  {
   "cell_type": "markdown",
   "id": "c3f630f3-f159-4b20-8fc5-9bf23ee5cf35",
   "metadata": {},
   "source": [
    "Aquí creamos el dataset para entrenar y validar el modelo uniendo los datos del sector 68 (no exoplanetas) y de los exoplanetas en un mismo fichero."
   ]
  },
  {
   "cell_type": "code",
   "execution_count": null,
   "id": "f83b1743-4b9e-430b-a218-4dc9f1cbda2c",
   "metadata": {},
   "outputs": [],
   "source": [
    "import pickle\n",
    "import numpy as np\n",
    "from google.colab import drive\n",
    "\n",
    "\n",
    "drive.mount('/content/drive')\n",
    "base_path = '/content/drive/My Drive/TFM_b'\n",
    "non_exoplanets_file = f'{base_path}/tess_sector_68_non_exoplanets.pkl'\n",
    "exoplanets_file = f'{base_path}/tess_exoplanets_data_filtered.pkl'\n",
    "output_file = f'{base_path}/tess_combined_training_data.pkl'\n",
    "\n",
    "with open(non_exoplanets_file, 'rb') as f:\n",
    "    non_exoplanets_data = pickle.load(f)\n",
    "\n",
    "with open(exoplanets_file, 'rb') as f:\n",
    "    exoplanets_data = pickle.load(f)\n",
    "\n",
    "# El pickle de no exoplanetas no tenía columna del nombre de planet_name, la creamos vacía para evitar error\n",
    "for obj in non_exoplanets_data:\n",
    "    obj['planet_name'] = ''\n",
    "\n",
    "# Añadir la columna 'exoplanet' a los datos de exoplanetas confirmados\n",
    "for obj in exoplanets_data:\n",
    "    obj['exoplanet'] = 1\n",
    "\n",
    "combined_data = non_exoplanets_data + exoplanets_data\n",
    "\n",
    "print(f\"Total de objetos: {len(combined_data)}\")\n",
    "print(f\"No exoplanetas (0): {len(non_exoplanets_data)}\")\n",
    "print(f\"Exoplanetas confirmados (1): {len(exoplanets_data)}\")\n",
    "\n",
    "# Guardar el conjunto de datos combinado\n",
    "with open(output_file, 'wb') as f:\n",
    "    pickle.dump(combined_data, f)\n",
    "\n",
    "print(f\"\\nDatos combinados guardados en: {output_file}\")"
   ]
  },
  {
   "cell_type": "markdown",
   "id": "90c2c4d5-9d6d-4f57-bb24-6a64453ed858",
   "metadata": {},
   "source": [
    "Total de objetos: 10609<br>\n",
    "No exoplanetas (0): 10173<br>\n",
    "Exoplanetas confirmados (1): 436<br>\n",
    "\n",
    "Datos combinados guardados en: /content/drive/My Drive/TFM_b/tess_combined_training_data.pkl"
   ]
  },
  {
   "cell_type": "code",
   "execution_count": null,
   "id": "558f709f-aa54-443e-a71d-d29bbfe5b871",
   "metadata": {},
   "outputs": [],
   "source": []
  }
 ],
 "metadata": {
  "kernelspec": {
   "display_name": "Python 3 (ipykernel)",
   "language": "python",
   "name": "python3"
  },
  "language_info": {
   "codemirror_mode": {
    "name": "ipython",
    "version": 3
   },
   "file_extension": ".py",
   "mimetype": "text/x-python",
   "name": "python",
   "nbconvert_exporter": "python",
   "pygments_lexer": "ipython3",
   "version": "3.11.7"
  }
 },
 "nbformat": 4,
 "nbformat_minor": 5
}
